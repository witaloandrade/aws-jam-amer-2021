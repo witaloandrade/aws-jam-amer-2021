{
 "cells": [
  {
   "cell_type": "markdown",
   "metadata": {
    "collapsed": false
   },
   "source": [
    "# Bo's Noodleshop and getting used to Jupyter\n",
    "Some cells are written in Markdown. This cell is in markdown. To run it I can hit the run button or click shift-enter."
   ]
  },
  {
   "cell_type": "code",
   "execution_count": 0,
   "metadata": {
    "collapsed": false
   },
   "outputs": [
   ],
   "source": [
    "This cell should be markdown or it will throw an error. You can switch it by clicking the drop down menu that says code. Here is a good link [Getting started in Markdown](https://www.markdownguide.org/getting-started/)"
   ]
  },
  {
   "cell_type": "code",
   "execution_count": 0,
   "metadata": {
    "collapsed": false
   },
   "outputs": [
   ],
   "source": [
    "# I can comment out some areas as normal. Here is how I test a cell\n",
    "1+1"
   ]
  },
  {
   "cell_type": "code",
   "execution_count": 0,
   "metadata": {
    "collapsed": false
   },
   "outputs": [
   ],
   "source": [
    "# This should also be true\n",
    "\"a\"==\"a\""
   ]
  },
  {
   "cell_type": "markdown",
   "metadata": {
    "collapsed": false
   },
   "source": [
    "# Loading Data"
   ]
  },
  {
   "cell_type": "code",
   "execution_count": 0,
   "metadata": {
    "collapsed": false
   },
   "outputs": [
   ],
   "source": [
    "#Run this\n",
    "task1answer = \"Ska\""
   ]
  },
  {
   "cell_type": "code",
   "execution_count": 0,
   "metadata": {
    "collapsed": false
   },
   "outputs": [
   ],
   "source": [
    "# To start using Pandas I should import it\n",
    "import pandas as pd"
   ]
  },
  {
   "cell_type": "code",
   "execution_count": 0,
   "metadata": {
    "collapsed": false
   },
   "outputs": [
   ],
   "source": [
    "# Week 1 data\n",
    "SoldData = {\n",
    "    'Day': [\"Mon\", \"Tues\", \"Wed\", \"Thur\",\"Fri\",\"Sat\",\"Sun\"],\n",
    "    'Bao': [11, 22, 10, 18,15,4,0],\n",
    "    'Soup': [15, 9, 8, 7,3,2,0], \n",
    "    'Special': [2, 5, 5, 4,4,2,0]\n",
    "}"
   ]
  },
  {
   "cell_type": "code",
   "execution_count": 0,
   "metadata": {
    "collapsed": false
   },
   "outputs": [
   ],
   "source": [
    "#Run this too!\n",
    "task1answer = task1answer+\"boo\"\n",
    "# I can instantly print variables after running cell\n",
    "task1answer"
   ]
  },
  {
   "cell_type": "code",
   "execution_count": 0,
   "metadata": {
    "collapsed": false
   },
   "outputs": [
   ],
   "source": [
    "# Wait I already ran this cell. I don't need to run it again. What happens if I run it again?\n",
    "task1answer = task1answer+\"boo\"\n",
    "task1answer"
   ]
  },
  {
   "cell_type": "code",
   "execution_count": 0,
   "metadata": {
    "collapsed": false
   },
   "outputs": [
   ],
   "source": [
    "#Status Check\n",
    "if (task1answer != \"Skaboo\"):\n",
    "    print (\"Something messed up, please restart notebook or go back to the start of Loading Data.\")\n",
    "else:\n",
    "    print (\"So far so good!\")"
   ]
  },
  {
   "cell_type": "code",
   "execution_count": 0,
   "metadata": {
    "collapsed": false
   },
   "outputs": [
   ],
   "source": [
    "#Run this too!\n",
    "task1answer = task1answer+\"sh\""
   ]
  },
  {
   "cell_type": "code",
   "execution_count": 0,
   "metadata": {
    "collapsed": false
   },
   "outputs": [
   ],
   "source": [
    "#Price\n",
    "Price={'Bao': .55,\n",
    "    'Soup': 1.25, \n",
    "    'Special': 1\n",
    "}\n",
    "Price"
   ]
  },
  {
   "cell_type": "code",
   "execution_count": 0,
   "metadata": {
    "collapsed": false
   },
   "outputs": [
   ],
   "source": [
    "print (\"Jam Challenge answer for task 1 is \" + str(task1answer))"
   ]
  },
  {
   "cell_type": "markdown",
   "metadata": {
    "collapsed": false
   },
   "source": [
    "# Changing Data"
   ]
  },
  {
   "cell_type": "code",
   "execution_count": 0,
   "metadata": {
    "collapsed": false
   },
   "outputs": [
   ],
   "source": [
    "# we should have 2 pieces of data loaded. Price, Inv, SoldData\n",
    "#Lets look at SoldData\n",
    "SoldData"
   ]
  },
  {
   "cell_type": "code",
   "execution_count": 0,
   "metadata": {
    "collapsed": false
   },
   "outputs": [
   ],
   "source": [
    "# Pandas makes it easier to see \n",
    "foodLedger = pd.DataFrame(SoldData)\n",
    "foodLedger"
   ]
  },
  {
   "cell_type": "code",
   "execution_count": 0,
   "metadata": {
    "collapsed": false
   },
   "outputs": [
   ],
   "source": [
    "# There are two ways to select a column\n",
    "foodLedger.Bao"
   ]
  },
  {
   "cell_type": "code",
   "execution_count": 0,
   "metadata": {
    "collapsed": false
   },
   "outputs": [
   ],
   "source": [
    "# See how they are the same? Be familiar with both\n",
    "foodLedger[\"Bao\"]"
   ]
  },
  {
   "cell_type": "code",
   "execution_count": 0,
   "metadata": {
    "collapsed": false
   },
   "outputs": [
   ],
   "source": [
    "# You can add in a column with operations. Consider if we wanted to consider the expense of Bao.\n",
    "foodLedger[\"BaoExpense\"]=foodLedger[\"Bao\"]*.15\n",
    "foodLedger"
   ]
  },
  {
   "cell_type": "code",
   "execution_count": 0,
   "metadata": {
    "collapsed": false
   },
   "outputs": [
   ],
   "source": [
    "#Very Pretty, now lets Add in a column for the total number of items sold each day\n",
    "foodLedger[\"TotalSold\"]=foodLedger[\"Bao\"]+foodLedger[\"Soup\"]+foodLedger[\"Special\"]\n",
    "foodLedger"
   ]
  },
  {
   "cell_type": "code",
   "execution_count": 0,
   "metadata": {
    "collapsed": false
   },
   "outputs": [
   ],
   "source": [
    "# you can do math with dictionaries\n",
    "Price['Bao']"
   ]
  },
  {
   "cell_type": "code",
   "execution_count": 0,
   "metadata": {
    "collapsed": false
   },
   "outputs": [
   ],
   "source": [
    "# you can add operators\n",
    "Price['Bao']*12"
   ]
  },
  {
   "cell_type": "code",
   "execution_count": 0,
   "metadata": {
    "collapsed": false
   },
   "outputs": [
   ],
   "source": [
    "#How could I create a column \"TotalRevenue\" for the total money sold?\n",
    "foodLedger[\"TotalRevenue\"]=foodLedger[\"Bao\"]*Price['Bao']+foodLedger[\"Soup\"]*Price['Soup']+foodLedger[\"Special\"]*Price['Special']\n",
    "#foodLedger[\"TotalRevenue\"]=0\n",
    "foodLedger"
   ]
  },
  {
   "cell_type": "markdown",
   "metadata": {
    "collapsed": false
   },
   "source": [
    "### Digging a little deeper"
   ]
  },
  {
   "cell_type": "code",
   "execution_count": 0,
   "metadata": {
    "collapsed": false
   },
   "outputs": [
   ],
   "source": [
    "# If I was looking just at my column of items sold. I could call this.\n",
    "foodLedger['TotalSold']"
   ]
  },
  {
   "cell_type": "code",
   "execution_count": 0,
   "metadata": {
    "collapsed": false
   },
   "outputs": [
   ],
   "source": [
    "# I could get the sum of TotalSold and see how many items I sold for the week by running this code.\n",
    "foodLedger['TotalSold'].sum()"
   ]
  },
  {
   "cell_type": "code",
   "execution_count": 0,
   "metadata": {
    "collapsed": false
   },
   "outputs": [
   ],
   "source": [
    "# Lets get some data for the Task2 Answer for the week. How would I just show the column 'TotalRevenue'\n"
   ]
  },
  {
   "cell_type": "code",
   "execution_count": 0,
   "metadata": {
    "collapsed": false
   },
   "outputs": [
   ],
   "source": [
    "# For the Task 2 Answer get the sum of TotalRevenue. You should put this answer for Task 2\n"
   ]
  },
  {
   "cell_type": "markdown",
   "metadata": {
    "collapsed": false
   },
   "source": [
    "## More Panda Operations\n",
    "Some added panda operations that are helpful in different situations."
   ]
  },
  {
   "cell_type": "code",
   "execution_count": 0,
   "metadata": {
    "collapsed": false
   },
   "outputs": [
   ],
   "source": [
    "# describe is a great way to understand your overall data at a glance\n",
    "foodLedger.describe()"
   ]
  },
  {
   "cell_type": "code",
   "execution_count": 0,
   "metadata": {
    "collapsed": false
   },
   "outputs": [
   ],
   "source": [
    "# Slices of a dataframe\n",
    "slice=foodLedger[0:2]\n",
    "slice"
   ]
  },
  {
   "cell_type": "code",
   "execution_count": 0,
   "metadata": {
    "collapsed": false
   },
   "outputs": [
   ],
   "source": [
    "# Add data to the bottom\n",
    "foodLedgerTest = foodLedger.append(slice, True)\n",
    "foodLedgerTest"
   ]
  },
  {
   "cell_type": "code",
   "execution_count": 0,
   "metadata": {
    "collapsed": false
   },
   "outputs": [
   ],
   "source": [
    "# Max, min , mean for a particular column\n",
    "foodLedger['TotalSold'].min(),foodLedger['TotalSold'].max(),foodLedger['TotalSold'].mean()"
   ]
  },
  {
   "cell_type": "code",
   "execution_count": 0,
   "metadata": {
    "collapsed": false
   },
   "outputs": [
   ],
   "source": [
    "# Find out the type of a variable. This is helpful for troubleshooting\n",
    "type(Price), type(task1answer)"
   ]
  },
  {
   "cell_type": "code",
   "execution_count": 0,
   "metadata": {
    "collapsed": false
   },
   "outputs": [
   ],
   "source": [
    "# Number of cells\n",
    "foodLedger.size"
   ]
  },
  {
   "cell_type": "code",
   "execution_count": 0,
   "metadata": {
    "collapsed": false
   },
   "outputs": [
   ],
   "source": [
    "# Shape of cells\n",
    "foodLedger.shape"
   ]
  },
  {
   "cell_type": "code",
   "execution_count": 0,
   "metadata": {
    "collapsed": false
   },
   "outputs": [
   ],
   "source": [
    "# One consideration is the type of the objects in a column\n",
    "foodLedger.dtypes"
   ]
  },
  {
   "cell_type": "code",
   "execution_count": 0,
   "metadata": {
    "collapsed": false
   },
   "outputs": [
   ],
   "source": [
    "# Changse the type of a column to an object\n",
    "foodLedgerTest['TotalSold'] = foodLedgerTest['TotalSold'].astype(str)\n",
    "foodLedgerTest['TotalSold']"
   ]
  },
  {
   "cell_type": "code",
   "execution_count": 0,
   "metadata": {
    "collapsed": false
   },
   "outputs": [
   ],
   "source": [
    "# Then back to a float\n",
    "foodLedgerTest['TotalSold'] = foodLedgerTest['TotalSold'].astype(float)\n",
    "foodLedgerTest['TotalSold']"
   ]
  },
  {
   "cell_type": "markdown",
   "metadata": {
    "collapsed": false
   },
   "source": [
    "# Week 2\n",
    "I think my second week went better. Task 3 is how much I received for the week. "
   ]
  },
  {
   "cell_type": "code",
   "execution_count": 0,
   "metadata": {
    "collapsed": false
   },
   "outputs": [
   ],
   "source": [
    "# Week 2 data\n",
    "SoldData2 = {\n",
    "    'Day': [\"Mon\", \"Tues\", \"Wed\", \"Thur\",\"Fri\",\"Sat\",\"Sun\"],\n",
    "    'Bao': [22, 22, 10, 18,15,4,'na'],\n",
    "    'Soup': [40, 9, 'na', 7,3,2,'na'], \n",
    "    'Special': [4, 8, 9, 6, 'na',4,'na']\n",
    "}"
   ]
  },
  {
   "cell_type": "code",
   "execution_count": 0,
   "metadata": {
    "collapsed": false
   },
   "outputs": [
   ],
   "source": [
    "# Pandas makes it easier to see \n",
    "foodLedger2 = pd.DataFrame(SoldData2)\n",
    "foodLedger2"
   ]
  },
  {
   "cell_type": "code",
   "execution_count": 0,
   "metadata": {
    "collapsed": false
   },
   "outputs": [
   ],
   "source": [
    "# I have some na's in my data because of spoiled ingrediants, data errors, or time at the Dojo. \n",
    "# I should replace them with 0.\n",
    "foodLedger2=foodLedger2.replace('na', 0)"
   ]
  },
  {
   "cell_type": "code",
   "execution_count": 0,
   "metadata": {
    "collapsed": false
   },
   "outputs": [
   ],
   "source": [
    "# How do I check if the dtype of the object changed and fix it?\n"
   ]
  },
  {
   "cell_type": "code",
   "execution_count": 0,
   "metadata": {
    "collapsed": false
   },
   "outputs": [
   ],
   "source": [
    "#How could I create a column \"TotalRevenue\" for the total money sold? Assume the same price as last week\n"
   ]
  },
  {
   "cell_type": "code",
   "execution_count": 0,
   "metadata": {
    "collapsed": false
   },
   "outputs": [
   ],
   "source": [
    "# Lets get some data for the Task3. Get the sum of TotalRevenue\n"
   ]
  },
  {
   "cell_type": "markdown",
   "metadata": {
    "collapsed": false
   },
   "source": [
    "# Extra- Matplotlib\n",
    "[Matplotlib doc](https://queirozf.com/entries/pandas-dataframe-plot-examples-with-matplotlib-pyplot)"
   ]
  },
  {
   "cell_type": "code",
   "execution_count": 0,
   "metadata": {
    "collapsed": false
   },
   "outputs": [
   ],
   "source": [
    "import matplotlib.pyplot as plt"
   ]
  },
  {
   "cell_type": "code",
   "execution_count": 0,
   "metadata": {
    "collapsed": false
   },
   "outputs": [
   ],
   "source": [
    "foodLedger.plot(kind='line',x='Day',y='Bao',color='red')\n",
    "plt.show()"
   ]
  },
  {
   "cell_type": "code",
   "execution_count": 0,
   "metadata": {
    "collapsed": false
   },
   "outputs": [
   ],
   "source": [
    "ax = plt.gca()\n",
    "\n",
    "foodLedger.plot(kind='line',x='Day',y='Bao',ax=ax)\n",
    "foodLedger.plot(kind='line',x='Day',y='Soup', color='red', ax=ax)\n",
    "foodLedger.plot(kind='line',x='Day',y='Special', color='Purple', ax=ax)\n",
    "\n",
    "plt.show()"
   ]
  },
  {
   "cell_type": "markdown",
   "metadata": {
    "collapsed": false
   },
   "source": [
    "# References\n",
    "Made for AWS Jam \"Panda's Kung Fu\" by @jdietle\n",
    "- [Pandas Documentation](https://pandas.pydata.org/pandas-docs/stable/index.html)\n",
    "- [Matplotlib doc](https://queirozf.com/entries/pandas-dataframe-plot-examples-with-matplotlib-pyplot)\n",
    "- [Pandas for Beginners](https://medium.com/datadriveninvestor/python-pandas-library-for-beginners-a-simplified-guide-for-getting-started-and-ditching-20992b7cd4da)\n",
    "- [Kaggle: EDA to ML](https://www.kaggle.com/dejavu23/titanic-eda-to-ml-beginner)\n",
    "- [Jupyter Notebooks](https://www.dataquest.io/blog/jupyter-notebook-tutorial/)\n"
   ]
  },
  {
   "cell_type": "code",
   "execution_count": 0,
   "metadata": {
    "collapsed": false
   },
   "outputs": [
   ],
   "source": [
   ]
  }
 ],
 "metadata": {
  "kernelspec": {
   "display_name": "Python 3 (system-wide)",
   "language": "python",
   "metadata": {
    "cocalc": {
     "description": "Python 3 programming language",
     "priority": 100,
     "url": "https://www.python.org/"
    }
   },
   "name": "python3",
   "resource_dir": "/ext/jupyter/kernels/python3"
  },
  "language_info": {
   "codemirror_mode": {
    "name": "ipython",
    "version": 3
   },
   "file_extension": ".py",
   "mimetype": "text/x-python",
   "name": "python",
   "nbconvert_exporter": "python",
   "pygments_lexer": "ipython3",
   "version": "3.6.10"
  }
 },
 "nbformat": 4,
 "nbformat_minor": 4
}